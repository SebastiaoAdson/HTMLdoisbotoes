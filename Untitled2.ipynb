{
  "nbformat": 4,
  "nbformat_minor": 0,
  "metadata": {
    "colab": {
      "provenance": [],
      "authorship_tag": "ABX9TyPmzJu+qA1Gbxyx6t3sbzq/",
      "include_colab_link": true
    },
    "kernelspec": {
      "name": "python3",
      "display_name": "Python 3"
    },
    "language_info": {
      "name": "python"
    }
  },
  "cells": [
    {
      "cell_type": "markdown",
      "metadata": {
        "id": "view-in-github",
        "colab_type": "text"
      },
      "source": [
        "<a href=\"https://colab.research.google.com/github/SebastiaoAdson/HTMLdoisbotoes/blob/main/Untitled2.ipynb\" target=\"_parent\"><img src=\"https://colab.research.google.com/assets/colab-badge.svg\" alt=\"Open In Colab\"/></a>"
      ]
    },
    {
      "cell_type": "code",
      "source": [
        "for cont in range(1,5):    #Laço de Repetição de 1 até 4\n",
        "    X = float(input(\"Digite um número: \"))    #Lê o número inteiro\n",
        "    R = X * 12      #Multiplica por 12\n",
        "    print(\"Resultado\", R)       #Exibe o resultado"
      ],
      "metadata": {
        "id": "3rZ1gfBGo5v-"
      },
      "execution_count": null,
      "outputs": []
    },
    {
      "cell_type": "code",
      "source": [
        "for i in range(5):\n",
        "#ler um valor para a variavel x\n",
        "    x = float(input(\"Digite um valor para x:\"))\n",
        "#Multilicador o valor de x pro 12 e atribui à variavel de reposta R\n",
        "    r=x * 12\n",
        "#Apresenta o valor de R obtido\n",
        "print(\"O valor de R é:\", r)"
      ],
      "metadata": {
        "id": "Xoxla56nsEbe"
      },
      "execution_count": null,
      "outputs": []
    },
    {
      "cell_type": "code",
      "source": [
        "maior = float(input(\"Digite um número:\"))\n",
        "\n",
        "for i in range(5):\n",
        "    num = float(input(\"Digite um número\"))\n",
        "if num > maior:\n",
        "    maior = num\n",
        "print(\"O maior número é:\", maior)"
      ],
      "metadata": {
        "id": "gSTQojzbu902"
      },
      "execution_count": null,
      "outputs": []
    },
    {
      "cell_type": "code",
      "source": [
        "for cont in range(4):   #Repete 5 vezes\n",
        "    print(\"Oia lá \")    #mostra o total\n",
        "print(cont)             #mostra o total da contagem"
      ],
      "metadata": {
        "id": "kAEgkq3Lw47H"
      },
      "execution_count": null,
      "outputs": []
    },
    {
      "cell_type": "code",
      "source": [
        "for contador in range(0,11,2):     #Repete do 0 ao 10 pulando de 2 em 2\n",
        "    print(contador)          #mostra o total do contador"
      ],
      "metadata": {
        "id": "VkCdnvT6yLcm"
      },
      "execution_count": null,
      "outputs": []
    },
    {
      "cell_type": "code",
      "source": [
        "for n in range(1000, 2001):\n",
        "    if n % 11 == 2:\n",
        "        print(n)"
      ],
      "metadata": {
        "id": "dsOF9RAb0nV0"
      },
      "execution_count": null,
      "outputs": []
    },
    {
      "cell_type": "code",
      "source": [
        "soma = 0 #Começa a soma com zero\n",
        "for contador in range(5): #Repete 5 vezes\n",
        "    numero = float(input(\"Digite um número:\"))  #Lê um numero do usuario\n",
        "    soma = soma + numero #soma o numero a variavel soma\n",
        "print(\"A soma dos números é:\", soma) #mostra o total da soma\n",
        "print(\"A média dos números é:\", soma/5) #mostra a média dos números(soma divida por 5)"
      ],
      "metadata": {
        "id": "24_4ZCLZ1qhb"
      },
      "execution_count": null,
      "outputs": []
    },
    {
      "cell_type": "code",
      "source": [
        "n = int(input(\"Digite um número:\"))  #Lê o numero\n",
        "for c in range(1, 11):\n",
        "    r=n*c #calcula a multiplicação\n",
        "    print(f\"{n} x {c} = {r}\") #mostra o resultado"
      ],
      "metadata": {
        "id": "pu9neo3I3IRL"
      },
      "execution_count": null,
      "outputs": []
    },
    {
      "cell_type": "code",
      "source": [
        "for c in range(1,10):\n",
        "    print(\"Tabuada do\", c)\n",
        "    print()\n",
        "    for i in range(1, 11):\n",
        "     print(c, \"x\", i , \"=\", c * i)\n",
        "     print()"
      ],
      "metadata": {
        "id": "9wQIoBSC7g_U"
      },
      "execution_count": null,
      "outputs": []
    },
    {
      "cell_type": "code",
      "source": [
        "for c in range(1,21):\n",
        "    print(c, end=\" \") #função end=\"\" deixar os numeros do lado (nao ficar decima para baixo)"
      ],
      "metadata": {
        "id": "6v0hs5Ht9vT1"
      },
      "execution_count": null,
      "outputs": []
    },
    {
      "cell_type": "code",
      "source": [
        "for c in range(1,51, 2):   #contador numeros impares\n",
        "   #if c % 2!= 0 :         #segunda forma de fazer\n",
        "        print(c, end=\" \")"
      ],
      "metadata": {
        "id": "Q4z0whzoL-Ox"
      },
      "execution_count": null,
      "outputs": []
    },
    {
      "cell_type": "code",
      "source": [
        "n= int(input(\"Digite o primeiro numero:\"))      #ler dois numeros\n",
        "nu= int(input(\"Digite o segundo numero:\"))\n",
        "menor = min(n, nu)      #vai verificar quem é maior e menor\n",
        "maior = max(n, nu)\n",
        "for i in range(menor +1, maior):     #mostrar os números entre eles (excluindo os proprios números)\n",
        "    print(i, end=\" \")"
      ],
      "metadata": {
        "id": "1wRl50olN5IR"
      },
      "execution_count": null,
      "outputs": []
    },
    {
      "cell_type": "code",
      "source": [
        "n=int(input(\"Digite um número:\"))       #ler dois numeros\n",
        "nu=int(input(\"Digite um número:\"))\n",
        "if n<nu:\n",
        "    for c in range(n,+nu):      #vai verificar quem é maior e menor\n",
        "        print(c)\n",
        "    else:\n",
        "        for c in range(nu,+n):      #mostrar os números entre eles (excluindo os proprios números)\n",
        "            print(c)"
      ],
      "metadata": {
        "colab": {
          "base_uri": "https://localhost:8080/"
        },
        "id": "GSit-it1PVND",
        "outputId": "68e6938c-34ca-4cf0-ac14-559bbc223b2a"
      },
      "execution_count": null,
      "outputs": [
        {
          "name": "stdout",
          "output_type": "stream",
          "text": [
            "Digite um número:20\n",
            "Digite um número:10\n"
          ]
        }
      ]
    },
    {
      "cell_type": "code",
      "source": [
        "f = 0 # Começa zerado\n",
        "for c in range(1,6):        #Cadastro de 5 clientes\n",
        "    venda = float(input(f\"Digite o valor da venda do cliente {c}:\"))\n",
        "    f += venda #Atribui vendas na variavel faturamneto(f)\n",
        "\n",
        "if f > 54000:       #Verifica se superou o faturamneto de 54000\n",
        "    diferenca = f - 54000\n",
        "    print(f\"O faturamneto superou a loja B em R$ {diferenca:.2f}\")\n",
        "else:\n",
        "    print(\"O faturamento Não superou a loja B.\")"
      ],
      "metadata": {
        "id": "lmIF8juORdZK"
      },
      "execution_count": null,
      "outputs": []
    },
    {
      "cell_type": "code",
      "source": [
        "pares = 0\n",
        "impar = 0\n",
        "for contador in range(10):\n",
        "    numero = int(input(\"Números:\"))\n",
        "    if numero % 2 == 0:\n",
        "        pares += 1\n",
        "    else:\n",
        "        impar += 1\n",
        "print(\"Pares:\", pares)\n",
        "print(\"Impares:\", impar)"
      ],
      "metadata": {
        "id": "5vcz3W7iwbRY"
      },
      "execution_count": null,
      "outputs": []
    },
    {
      "cell_type": "code",
      "source": [
        "salario = float(input(\"Digite o salário inicial:\"))\n",
        "aumento = 1.5 / 100                         #Definir primeiro aumento salarial de 1,5\n",
        "for ano in range(1996, 2026):               #loop que vai do ano 1996 até 2025\n",
        " salario += salario * aumento               #Aplica o aumento no salario\n",
        " #print()\n",
        " #print()      para pula uma linha\n",
        " print(f\"Ano {ano}: Salario = R${salario:.2f}\")       #mostra salario atualizado\n",
        " aumento *=2                                          #Dobra percentual de aumento para o proximo ano\n",
        " print(f\"\\nSalario atual em 2025: R${salario:.2f}\")   #mostra o salario final em 2025"
      ],
      "metadata": {
        "id": "plAvHx6tyAp3"
      },
      "execution_count": null,
      "outputs": []
    },
    {
      "cell_type": "code",
      "source": [
        "ate_15= 0\n",
        "de_16_a_30 = 0\n",
        "de_31_a_45 = 0\n",
        "de_46_a_60 = 0\n",
        "acima_61 = 0                                    #loop para receber a idade de 15 pessoas\n",
        "for contador in range(15):\n",
        "    idade = int(input(\"Digite a idade: \"))       #Recebe a idade do usuario\n",
        "    if idade <= 15:\n",
        "        ate_15 += 1\n",
        "    elif idade >= 16 and idade <= 30:\n",
        "        de_16_a_30 += 19\n",
        "    elif idade >= 31 and idade <= 45:\n",
        "        de_31_a_45 += 1\n",
        "    elif idade >= 46 and idade <= 60:\n",
        "        de_46_a_60 += 1\n",
        "    else:\n",
        "        acima_61 += 1\n",
        "print(\"Até 15 anos: \", ate_15)      #mostra a quantidade de pessoas em cada faixa etaria\n",
        "print(\"De 16 a 30 anos: \", de_16_a_30)\n",
        "print(\"De 31 a 45 anos: \",de_31_a_45)\n",
        "print(\"De 46 a 60 anos: \",de_46_a_60)\n",
        "print(\"Acima de 61 anos: \",acima_61)\n",
        "\n",
        "print(f\"% de 15 anos: {(ate_15 / 15) * 100:.1f}%\")  #Calcular e mostrar a porcentagem da primeira e ultima faixa em relação o total\n",
        "print(f\"% de 16 a 30 anos: {(acima_61 /15) * 100:.1f}%\")"
      ],
      "metadata": {
        "id": "CQ0GE09Z6M2v"
      },
      "execution_count": null,
      "outputs": []
    },
    {
      "cell_type": "code",
      "source": [],
      "metadata": {
        "id": "aiVovhgOFqBQ"
      },
      "execution_count": null,
      "outputs": []
    }
  ]
}