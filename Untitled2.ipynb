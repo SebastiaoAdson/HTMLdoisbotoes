{
  "nbformat": 4,
  "nbformat_minor": 0,
  "metadata": {
    "colab": {
      "provenance": [],
      "authorship_tag": "ABX9TyNmbaACGJL/KC/e/5zQBuz3",
      "include_colab_link": true
    },
    "kernelspec": {
      "name": "python3",
      "display_name": "Python 3"
    },
    "language_info": {
      "name": "python"
    }
  },
  "cells": [
    {
      "cell_type": "markdown",
      "metadata": {
        "id": "view-in-github",
        "colab_type": "text"
      },
      "source": [
        "<a href=\"https://colab.research.google.com/github/SebastiaoAdson/HTMLdoisbotoes/blob/main/Untitled2.ipynb\" target=\"_parent\"><img src=\"https://colab.research.google.com/assets/colab-badge.svg\" alt=\"Open In Colab\"/></a>"
      ]
    },
    {
      "cell_type": "code",
      "source": [
        "for cont in range(1,5):    #Laço de Repetição de 1 até 4\n",
        "    X = float(input(\"Digite um número: \"))    #Lê o número inteiro\n",
        "    R = X * 12      #Multiplica por 12\n",
        "    print(\"Resultado\", R)       #Exibe o resultado"
      ],
      "metadata": {
        "id": "3rZ1gfBGo5v-"
      },
      "execution_count": null,
      "outputs": []
    },
    {
      "cell_type": "code",
      "source": [
        "for i in range(5):\n",
        "#ler um valor para a variavel x\n",
        "    x = float(input(\"Digite um valor para x:\"))\n",
        "#Multilicador o valor de x pro 12 e atribui à variavel de reposta R\n",
        "    r=x * 12\n",
        "#Apresenta o valor de R obtido\n",
        "print(\"O valor de R é:\", r)"
      ],
      "metadata": {
        "id": "Xoxla56nsEbe"
      },
      "execution_count": null,
      "outputs": []
    },
    {
      "cell_type": "code",
      "source": [
        "maior = float(input(\"Digite um número:\"))\n",
        "\n",
        "for i in range(5):\n",
        "    num = float(input(\"Digite um número\"))\n",
        "if num > maior:\n",
        "    maior = num\n",
        "print(\"O maior número é:\", maior)"
      ],
      "metadata": {
        "id": "gSTQojzbu902"
      },
      "execution_count": null,
      "outputs": []
    },
    {
      "cell_type": "code",
      "source": [
        "for cont in range(4):   #Repete 5 vezes\n",
        "    print(\"Oia lá \")    #mostra o total\n",
        "print(cont)             #mostra o total da contagem"
      ],
      "metadata": {
        "id": "kAEgkq3Lw47H"
      },
      "execution_count": null,
      "outputs": []
    },
    {
      "cell_type": "code",
      "source": [
        "for contador in range(0,11,2):     #Repete do 0 ao 10 pulando de 2 em 2\n",
        "    print(contador)          #mostra o total do contador"
      ],
      "metadata": {
        "id": "VkCdnvT6yLcm"
      },
      "execution_count": null,
      "outputs": []
    },
    {
      "cell_type": "code",
      "source": [
        "for n in range(1000, 2001):\n",
        "    if n % 11 == 2:\n",
        "        print(n)"
      ],
      "metadata": {
        "id": "dsOF9RAb0nV0"
      },
      "execution_count": null,
      "outputs": []
    },
    {
      "cell_type": "code",
      "source": [
        "soma = 0 #Começa a soma com zero\n",
        "for contador in range(5): #Repete 5 vezes\n",
        "    numero = float(input(\"Digite um número:\"))  #Lê um numero do usuario\n",
        "    soma = soma + numero #soma o numero a variavel soma\n",
        "print(\"A soma dos números é:\", soma) #mostra o total da soma\n",
        "print(\"A média dos números é:\", soma/5) #mostra a média dos números(soma divida por 5)"
      ],
      "metadata": {
        "id": "24_4ZCLZ1qhb"
      },
      "execution_count": null,
      "outputs": []
    },
    {
      "cell_type": "code",
      "source": [
        "n = int(input(\"Digite um número:\"))  #Lê o numero\n",
        "for c in range(1, 11):\n",
        "    r=n*c #calcula a multiplicação\n",
        "    print(f\"{n} x {c} = {r}\") #mostra o resultado"
      ],
      "metadata": {
        "id": "pu9neo3I3IRL"
      },
      "execution_count": null,
      "outputs": []
    },
    {
      "cell_type": "code",
      "source": [
        "for c in range(1,10):\n",
        "    print(\"Tabuada do\", c)\n",
        "    print()\n",
        "    for i in range(1, 11):\n",
        "     print(c, \"x\", i , \"=\", c * i)\n",
        "     print()"
      ],
      "metadata": {
        "id": "9wQIoBSC7g_U"
      },
      "execution_count": null,
      "outputs": []
    },
    {
      "cell_type": "code",
      "source": [
        "for c in range(1,21):\n",
        "    print(c, end=\" \") #função end=\"\" deixar os numeros do lado (nao ficar decima para baixo)"
      ],
      "metadata": {
        "id": "6v0hs5Ht9vT1"
      },
      "execution_count": null,
      "outputs": []
    },
    {
      "cell_type": "code",
      "source": [
        "for c in range(1,51, 2):   #contador numeros impares\n",
        "   #if c % 2!= 0 :         #segunda forma de fazer\n",
        "        print(c, end=\" \")"
      ],
      "metadata": {
        "id": "Q4z0whzoL-Ox"
      },
      "execution_count": null,
      "outputs": []
    },
    {
      "cell_type": "code",
      "source": [
        "n= int(input(\"Digite o primeiro numero:\"))      #ler dois numeros\n",
        "nu= int(input(\"Digite o segundo numero:\"))\n",
        "menor = min(n, nu)      #vai verificar quem é maior e menor\n",
        "maior = max(n, nu)\n",
        "for i in range(menor +1, maior):     #mostrar os números entre eles (excluindo os proprios números)\n",
        "    print(i, end=\" \")"
      ],
      "metadata": {
        "id": "1wRl50olN5IR"
      },
      "execution_count": null,
      "outputs": []
    },
    {
      "cell_type": "code",
      "source": [
        "n=int(input(\"Digite um número:\"))       #ler dois numeros\n",
        "nu=int(input(\"Digite um número:\"))\n",
        "if n<nu:\n",
        "    for c in range(n,+nu):      #vai verificar quem é maior e menor\n",
        "        print(c)\n",
        "    else:\n",
        "        for c in range(nu,+n):      #mostrar os números entre eles (excluindo os proprios números)\n",
        "            print(c)"
      ],
      "metadata": {
        "colab": {
          "base_uri": "https://localhost:8080/"
        },
        "id": "GSit-it1PVND",
        "outputId": "68e6938c-34ca-4cf0-ac14-559bbc223b2a"
      },
      "execution_count": null,
      "outputs": [
        {
          "name": "stdout",
          "output_type": "stream",
          "text": [
            "Digite um número:20\n",
            "Digite um número:10\n"
          ]
        }
      ]
    },
    {
      "cell_type": "code",
      "source": [
        "f = 0 # Começa zerado\n",
        "for c in range(1,6):        #Cadastro de 5 clientes\n",
        "    venda = float(input(f\"Digite o valor da venda do cliente {c}:\"))\n",
        "    f += venda #Atribui vendas na variavel faturamneto(f)\n",
        "\n",
        "if f > 54000:       #Verifica se superou o faturamneto de 54000\n",
        "    diferenca = f - 54000\n",
        "    print(f\"O faturamneto superou a loja B em R$ {diferenca:.2f}\")\n",
        "else:\n",
        "    print(\"O faturamento Não superou a loja B.\")"
      ],
      "metadata": {
        "id": "lmIF8juORdZK"
      },
      "execution_count": null,
      "outputs": []
    },
    {
      "cell_type": "code",
      "source": [
        "pares = 0\n",
        "impar = 0\n",
        "for contador in range(10):\n",
        "    numero = int(input(\"Números:\"))\n",
        "    if numero % 2 == 0:\n",
        "        pares += 1\n",
        "    else:\n",
        "        impar += 1\n",
        "print(\"Pares:\", pares)\n",
        "print(\"Impares:\", impar)"
      ],
      "metadata": {
        "id": "5vcz3W7iwbRY"
      },
      "execution_count": null,
      "outputs": []
    },
    {
      "cell_type": "code",
      "source": [
        "salario = float(input(\"Digite o salário inicial:\"))\n",
        "aumento = 1.5 / 100                         #Definir primeiro aumento salarial de 1,5\n",
        "for ano in range(1996, 2026):               #loop que vai do ano 1996 até 2025\n",
        " salario += salario * aumento               #Aplica o aumento no salario\n",
        " #print()\n",
        " #print()      para pula uma linha\n",
        " print(f\"Ano {ano}: Salario = R${salario:.2f}\")       #mostra salario atualizado\n",
        " aumento *=2                                          #Dobra percentual de aumento para o proximo ano\n",
        " print(f\"\\nSalario atual em 2025: R${salario:.2f}\")   #mostra o salario final em 2025"
      ],
      "metadata": {
        "id": "plAvHx6tyAp3"
      },
      "execution_count": null,
      "outputs": []
    },
    {
      "cell_type": "code",
      "source": [
        "ate_15= 0\n",
        "de_16_a_30 = 0\n",
        "de_31_a_45 = 0\n",
        "de_46_a_60 = 0\n",
        "acima_61 = 0                                    #loop para receber a idade de 15 pessoas\n",
        "for contador in range(15):\n",
        "    idade = int(input(\"Digite a idade: \"))       #Recebe a idade do usuario\n",
        "    if idade <= 15:\n",
        "        ate_15 += 1\n",
        "    elif idade >= 16 and idade <= 30:\n",
        "        de_16_a_30 += 19\n",
        "    elif idade >= 31 and idade <= 45:\n",
        "        de_31_a_45 += 1\n",
        "    elif idade >= 46 and idade <= 60:\n",
        "        de_46_a_60 += 1\n",
        "    else:\n",
        "        acima_61 += 1\n",
        "print(\"Até 15 anos: \", ate_15)      #mostra a quantidade de pessoas em cada faixa etaria\n",
        "print(\"De 16 a 30 anos: \", de_16_a_30)\n",
        "print(\"De 31 a 45 anos: \",de_31_a_45)\n",
        "print(\"De 46 a 60 anos: \",de_46_a_60)\n",
        "print(\"Acima de 61 anos: \",acima_61)\n",
        "\n",
        "print(f\"% de 15 anos: {(ate_15 / 15) * 100:.1f}%\")  #Calcular e mostrar a porcentagem da primeira e ultima faixa em relação o total\n",
        "print(f\"% de 16 a 30 anos: {(acima_61 /15) * 100:.1f}%\")"
      ],
      "metadata": {
        "id": "CQ0GE09Z6M2v"
      },
      "execution_count": null,
      "outputs": []
    },
    {
      "cell_type": "code",
      "source": [
        "#1. Um engenheiro precisa contar os tijolos empilhados de 1 até 100. Crie um\n",
        "#programa que mostre essa contagem.\n",
        "\n",
        "for n in range(1, 101):\n",
        " print(n, end= \" \")"
      ],
      "metadata": {
        "id": "aiVovhgOFqBQ"
      },
      "execution_count": null,
      "outputs": []
    },
    {
      "cell_type": "code",
      "source": [
        "#2. Um pintor pinta postes de luz e pinta apenas os de número par. Mostre\n",
        "#quais postes de 1 a 50 ele irá pintar.\n",
        "\n",
        "for c in range(2,52, 2):\n",
        "        print(c, end=\" \")"
      ],
      "metadata": {
        "id": "RZvF1Nq4SAfs"
      },
      "execution_count": null,
      "outputs": []
    },
    {
      "cell_type": "code",
      "source": [
        "#3. Numa maratona, os participantes com número ímpar recebem um kit\n",
        "#especial. Mostre todos os números ímpares de 1 a 100.\n",
        "\n",
        "for c in range(1,100, 2):\n",
        "        print(c, end=\" \")"
      ],
      "metadata": {
        "id": "WJKTRQtaSoP0"
      },
      "execution_count": null,
      "outputs": []
    },
    {
      "cell_type": "code",
      "source": [
        "#4. Cinco amigos fizeram uma vaquinha. Crie um programa que leia quanto\n",
        "#cada um contribuiu e, no final, mostre a soma total e a média.\n",
        "soma = 0\n",
        "for i in range(5):\n",
        "    contribuicao = float(input(f\"Digite a contribuição do amigo {i+1}: \"))\n",
        "    soma += contribuicao\n",
        "    media = soma / 5\n",
        "print(f\"A soma total das contribuições é: {soma:.1f}\")\n",
        "print(f\"A média das contribuições é: {media:.2f}\")"
      ],
      "metadata": {
        "id": "GTt6ewSJS9Qq"
      },
      "execution_count": null,
      "outputs": []
    },
    {
      "cell_type": "code",
      "source": [
        "#5. Em um bingo, foram sorteados 10 números. Mostre quantos foram pares\n",
        "#e quantos foram ímpares.\n",
        "\n",
        "pares = 0\n",
        "impar = 0\n",
        "for contador in range(10):\n",
        "    numero = int(input(\"Números:\"))\n",
        "    if numero % 2 == 0:\n",
        "        pares += 1\n",
        "    else:\n",
        "        impar += 1\n",
        "print(\"Pares:\", pares)\n",
        "print(\"Impares:\", impar)"
      ],
      "metadata": {
        "id": "paJJUJUAXc8s"
      },
      "execution_count": null,
      "outputs": []
    },
    {
      "cell_type": "code",
      "source": [
        "#6. Um estudante está treinando multiplicação. Peça um número e mostre a\n",
        "#tabuada dele de 1 a 10.\n",
        "\n",
        "n= int(input(\"Digite o primeiro numero:\"))\n",
        "for c in range(1, 11):\n",
        "    r=n*c\n",
        "    print(f\"{n} x {c} = {r}\")"
      ],
      "metadata": {
        "id": "dA6peGUDX7CM"
      },
      "execution_count": null,
      "outputs": []
    },
    {
      "cell_type": "code",
      "source": [
        "#7. Uma escola quer imprimir todas as tabuadas de 1 a 10. Crie um programa\n",
        "#que mostre as tabuadas organizadas.\n",
        "\n",
        "for c in range(1,10):\n",
        "    print(\"Tabuada do\", c)\n",
        "    print()\n",
        "    for i in range(1, 11):\n",
        "     print(c, \"x\", i , \"=\", c * i)\n",
        "     print()"
      ],
      "metadata": {
        "id": "YTbZeYwXYkNb"
      },
      "execution_count": null,
      "outputs": []
    },
    {
      "cell_type": "code",
      "source": [
        "#8. Numa trilha, há placas numeradas de 1 a 20. Mostre os números, primeiro\n",
        "#um abaixo do outro, depois lado a lado.\n",
        "\n",
        "for n in range(1, 21):\n",
        " print(n)\n",
        "\n",
        "print() # Adiciona uma linha para separar\n",
        "\n",
        "# Mostra os números de 1 a 20, lado a lado\n",
        "for n in range(1, 21):\n",
        " print(n, end=\" \")"
      ],
      "metadata": {
        "id": "GI35JpgxbFX6"
      },
      "execution_count": null,
      "outputs": []
    },
    {
      "cell_type": "code",
      "source": [
        "#9. Uma biblioteca quer listar apenas os livros com ID ímpar entre 1 e 50. Crie\n",
        "#esse programa.\n",
        "for c in range(1,50, 2):\n",
        "   print(\"Id\",  c)"
      ],
      "metadata": {
        "id": "cSw5HzgbdbE0"
      },
      "execution_count": null,
      "outputs": []
    },
    {
      "cell_type": "code",
      "source": [
        "#10.Crie um programa que leia dois números inteiros e mostre todos os\n",
        "#números inteiros entre eles.\n",
        "\n",
        "n= int(input(\"Digite o primeiro numero:\"))\n",
        "nu= int(input(\"Digite o segundo numero:\"))\n",
        "menor = min(n, nu)\n",
        "maior = max(n, nu)"
      ],
      "metadata": {
        "id": "ODtGJC5nggSO",
        "colab": {
          "base_uri": "https://localhost:8080/"
        },
        "outputId": "2b3be822-7e89-4891-9d21-7df9ee43b28c"
      },
      "execution_count": 1,
      "outputs": [
        {
          "name": "stdout",
          "output_type": "stream",
          "text": [
            "Digite o primeiro numero:1234\n",
            "Digite o segundo numero:1234\n"
          ]
        }
      ]
    },
    {
      "cell_type": "code",
      "source": [
        "#11.Uma loja cadastrou 5 vendas. Ela quer saber se faturou mais que\n",
        "#R$54.000. Informe e, se ultrapassou, mostre quanto ultrapassou.\n",
        "\n",
        "f = 0\n",
        "for c in range(1,6):\n",
        "    venda = float(input(f\"Digite o valor da venda do cliente {c}:\"))\n",
        "    f += venda\n",
        "\n",
        "if f > 54000:\n",
        "    diferenca = f - 54000\n",
        "    print(f\"O faturamneto superou a loja B em R$ {diferenca:.2f}\")\n",
        "else:\n",
        "    print(\"O faturamento Não superou a loja B.\")"
      ],
      "metadata": {
        "id": "3m2ru7RK6jXf"
      },
      "execution_count": null,
      "outputs": []
    },
    {
      "cell_type": "code",
      "source": [
        "#12.Robôs numerados de 2 a 20 fazem uma corrida, mas só podem andar de\n",
        "#dois em dois. Mostre os números dos robôs correndo.\n",
        "\n",
        "for c in range(2,21, 2):\n",
        "        print(c, end=\" \")"
      ],
      "metadata": {
        "id": "661pk_e37Wfm"
      },
      "execution_count": null,
      "outputs": []
    },
    {
      "cell_type": "code",
      "source": [
        "#13.No concurso da cidade, os números de inscrição entre 1000 e 2000 que\n",
        "#deixam resto 2 ao serem divididos por 11 ganham um brinde. Liste esses\n",
        "#números.\n",
        "\n",
        "for n in range(1000, 2001):\n",
        "    if n % 11 == 2:\n",
        "        print(n, end=\" \")"
      ],
      "metadata": {
        "colab": {
          "base_uri": "https://localhost:8080/"
        },
        "id": "Ts7O7me277Ht",
        "outputId": "f0741333-998c-498c-87de-3b10b87f3465"
      },
      "execution_count": 8,
      "outputs": [
        {
          "output_type": "stream",
          "name": "stdout",
          "text": [
            "1003 1014 1025 1036 1047 1058 1069 1080 1091 1102 1113 1124 1135 1146 1157 1168 1179 1190 1201 1212 1223 1234 1245 1256 1267 1278 1289 1300 1311 1322 1333 1344 1355 1366 1377 1388 1399 1410 1421 1432 1443 1454 1465 1476 1487 1498 1509 1520 1531 1542 1553 1564 1575 1586 1597 1608 1619 1630 1641 1652 1663 1674 1685 1696 1707 1718 1729 1740 1751 1762 1773 1784 1795 1806 1817 1828 1839 1850 1861 1872 1883 1894 1905 1916 1927 1938 1949 1960 1971 1982 1993 "
          ]
        }
      ]
    },
    {
      "cell_type": "code",
      "source": [
        "#14.Faça uma contagem regressiva de 10 até 1 e, ao final, exiba \"Lançar\n",
        "#Foguete!\".\n",
        "\n",
        "for n in range(10, 0, -1):\n",
        "    print(n)\n",
        "print(\"Lançar Foquete!\")"
      ],
      "metadata": {
        "id": "IbVIS-y29L52"
      },
      "execution_count": null,
      "outputs": []
    },
    {
      "cell_type": "code",
      "source": [
        "#15.Uma criança guarda moedas diariamente por 30 dias. Peça o valor de\n",
        "#cada moeda e mostre o total no cofrinho.\n",
        "\n",
        "cofrinho = 0\n",
        "for dia in range(30):\n",
        "    moeda=float(input(f\"Digite o valor da moeda do dia {dia+1}: \"))\n",
        "    cofrinho += moeda\n",
        "print(f\"O total no cofrinho é: R$ {cofrinho:.2f}\")"
      ],
      "metadata": {
        "id": "1m6G-5J3A9Ek"
      },
      "execution_count": null,
      "outputs": []
    },
    {
      "cell_type": "code",
      "source": [
        "#16.Na fazenda, o dono pesa 5 bois e quer saber qual é o mais pesado. Crie\n",
        "#um programa que leia os pesos e mostre o maior.\n",
        "\n",
        "for c in range(5):\n",
        "    peso = float(input(\"Digite o peso do boi: \"))\n",
        "    if c == 0:\n",
        "        maior = peso\n",
        "    elif peso > maior:\n",
        "        maior = peso\n",
        "print(\"O maior peso é:\", maior)"
      ],
      "metadata": {
        "id": "5xoLDMd4Cl5y"
      },
      "execution_count": null,
      "outputs": []
    },
    {
      "cell_type": "code",
      "source": [
        "#17.Um funcionário teve aumento progressivo desde 1995. No primeiro ano,\n",
        "#1,5%, depois dobrando o percentual a cada ano. Calcule e mostre o\n",
        "#salário até hoje.\n",
        "\n",
        "salario = float(input(\"Digite o salário inicial:\"))\n",
        "aumento = 1.5 / 100                         #Definir primeiro aumento salarial de 1,5\n",
        "for ano in range(1996, 2026):               #loop que vai do ano 1996 até 2025\n",
        " salario += salario * aumento               #Aplica o aumento no salario\n",
        " #print()\n",
        " #print()\n",
        " print(f\"Ano {ano}: Salario = R${salario:.2f}\")       #mostra salario atualizado\n",
        " aumento *=2                                          #Dobra percentual de aumento para o proximo ano\n",
        " print(f\"\\nSalario atual em 2025: R${salario:.2f}\")"
      ],
      "metadata": {
        "id": "k1tK1ksBDIFi"
      },
      "execution_count": null,
      "outputs": []
    },
    {
      "cell_type": "code",
      "source": [
        "#18.Uma loja tem 10 produtos. Leia a quantidade em estoque de cada um e\n",
        "#mostre o total.\n",
        "\n",
        "total_estoque = 0\n",
        "for i in range(1, 11):\n",
        "    quantidade_estoque = int(input(f\"Digite a quantidade em estoque do produto {i}: \"))\n",
        "    total_estoque += quantidade_estoque\n",
        "print(f\"O total de estoque é: {total_estoque}\")"
      ],
      "metadata": {
        "id": "IRB7e2H0D5uK"
      },
      "execution_count": null,
      "outputs": []
    },
    {
      "cell_type": "code",
      "source": [
        "#19.Durante 7 dias, a cidade registrou temperaturas. Mostre a temperatura de\n",
        "#cada dia, a média, a maior e a menor.\n",
        "\n",
        "soma_temperaturas = 0\n",
        "maior_temperatura = float('-inf')\n",
        "menor_temperatura = float('inf')\n",
        "for dia in range(1, 8):\n",
        "    temperatura = float(input(f\"Digite a temperatura do dia {dia}: \"))\n",
        "    soma_temperaturas += temperatura\n",
        "    if temperatura > maior_temperatura:\n",
        "        maior_temperatura = temperatura\n",
        "    if temperatura < menor_temperatura:\n",
        "        menor_temperatura = temperatura\n",
        "print(f\"O maior valor é: {maior_temperatura}\")\n",
        "print(f\"O menor valor é: {menor_temperatura}\")\n",
        "print(f\"A média é: {soma_temperaturas / 7}\")"
      ],
      "metadata": {
        "id": "Ps_IH2BDEtFZ"
      },
      "execution_count": null,
      "outputs": []
    },
    {
      "cell_type": "code",
      "source": [
        "#20.Mostre os números de 1 até 100, mas substitua os múltiplos de 3 por\n",
        "#\"Fizz\", os múltiplos de 5 por \"Buzz\" e os de ambos por \"FizzBuzz\".\n",
        "\n",
        "for numero in range(1, 101):\n",
        "    if numero % 3 == 0 and numero % 5 == 0:\n",
        "        print(\"FizzBuzz\")\n",
        "    elif numero % 3 == 0:\n",
        "        print(\"Fizz\")\n",
        "    elif numero % 5 == 0:\n",
        "        print(\"Buzz\")\n",
        "    else:\n",
        "         print(numero)"
      ],
      "metadata": {
        "colab": {
          "base_uri": "https://localhost:8080/"
        },
        "id": "o1FoVYEMFkCx",
        "outputId": "ec5e164d-2bde-405c-d48a-681dffb27e45"
      },
      "execution_count": 33,
      "outputs": [
        {
          "output_type": "stream",
          "name": "stdout",
          "text": [
            "1\n",
            "2\n",
            "Fizz\n",
            "4\n",
            "Buzz\n",
            "Fizz\n",
            "7\n",
            "8\n",
            "Fizz\n",
            "Buzz\n",
            "11\n",
            "Fizz\n",
            "13\n",
            "14\n",
            "FizzBuzz\n",
            "16\n",
            "17\n",
            "Fizz\n",
            "19\n",
            "Buzz\n",
            "Fizz\n",
            "22\n",
            "23\n",
            "Fizz\n",
            "Buzz\n",
            "26\n",
            "Fizz\n",
            "28\n",
            "29\n",
            "FizzBuzz\n",
            "31\n",
            "32\n",
            "Fizz\n",
            "34\n",
            "Buzz\n",
            "Fizz\n",
            "37\n",
            "38\n",
            "Fizz\n",
            "Buzz\n",
            "41\n",
            "Fizz\n",
            "43\n",
            "44\n",
            "FizzBuzz\n",
            "46\n",
            "47\n",
            "Fizz\n",
            "49\n",
            "Buzz\n",
            "Fizz\n",
            "52\n",
            "53\n",
            "Fizz\n",
            "Buzz\n",
            "56\n",
            "Fizz\n",
            "58\n",
            "59\n",
            "FizzBuzz\n",
            "61\n",
            "62\n",
            "Fizz\n",
            "64\n",
            "Buzz\n",
            "Fizz\n",
            "67\n",
            "68\n",
            "Fizz\n",
            "Buzz\n",
            "71\n",
            "Fizz\n",
            "73\n",
            "74\n",
            "FizzBuzz\n",
            "76\n",
            "77\n",
            "Fizz\n",
            "79\n",
            "Buzz\n",
            "Fizz\n",
            "82\n",
            "83\n",
            "Fizz\n",
            "Buzz\n",
            "86\n",
            "Fizz\n",
            "88\n",
            "89\n",
            "FizzBuzz\n",
            "91\n",
            "92\n",
            "Fizz\n",
            "94\n",
            "Buzz\n",
            "Fizz\n",
            "97\n",
            "98\n",
            "Fizz\n",
            "Buzz\n"
          ]
        }
      ]
    }
  ]
}